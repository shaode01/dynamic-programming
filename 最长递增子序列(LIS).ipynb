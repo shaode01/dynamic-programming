{
 "cells": [
  {
   "cell_type": "markdown",
   "metadata": {},
   "source": [
    "### 最长递增子序列(LIS)\n",
    "    给定一个序列 An = a1 ,a2 ,  ... , an ，找出最长的子序列使得对所有 i < j ，ai < aj 。\n",
    "    转移方程：f[k]=max(max(f[j]+1 if a[j]<a[k] for j<k),1);"
   ]
  },
  {
   "cell_type": "code",
   "execution_count": 3,
   "metadata": {
    "collapsed": false
   },
   "outputs": [
    {
     "name": "stdout",
     "output_type": "stream",
     "text": [
      "4\n"
     ]
    }
   ],
   "source": [
    "a=[1,-1,2,-3,-4,-5,6,-7,-6,-5,-4] \n",
    "f=[1]*len(a) ##存储以第i个元素结尾的最长递增子序列长度，初始化为1 \n",
    "for i in range(1,len(a)): #从第二个数开始遍历a中元素\n",
    "    maxj=0 \n",
    "    ##第i个元素之前的每一个j，如果a[j]<a[i]，对应的前j个元素加第i个元素的长度为f[j]+1,求出最大值即为前i个元素的最长递增子序列长度 \n",
    "    for j in range(i): \n",
    "        if a[j]<a[i]: \n",
    "            fij=f[j]+1 \n",
    "            if fij>maxj: \n",
    "                maxj=fij \n",
    "    #print a[i],maxj \n",
    "    if maxj!=0: \n",
    "        f[i]=maxj \n",
    "print max(f) "
   ]
  },
  {
   "cell_type": "markdown",
   "metadata": {},
   "source": [
    "    上面这种算法对i前的每一个j都要做判断，算法复杂度为O(n^2)，想办法减少复杂度，\n",
    "    一个想法是用maxi存储遍历前i个元素过程中出现的所有最长递增子序列的最后一个元素及其长度，\n",
    "    则每次不需要对i前的每一个j比较，只要比较maxi中的各个最长递增子序列的最后一个元素。maxi初始化为[[a[0],1]]\n",
    "    在maxi生成过程中可能会出现重复的，比如a=[1,-1,2,-3,-4,-5,6,-7,-6,-5,-4]，i=1时，maxi=[[1, 1], [-1, 1]]，i=2时，a[2]和maxi中的1、-1比较，都比他们大，将a[2]将入这两个序列，maxi=[[2, 2], [2, 2]]，表明原来的[1]和[-1]都增长为[1,2],[-1,2]，这都是以2为结尾的长度为2的最长递增子序列。\n",
    "    "
   ]
  },
  {
   "cell_type": "code",
   "execution_count": 4,
   "metadata": {
    "collapsed": false
   },
   "outputs": [
    {
     "name": "stdout",
     "output_type": "stream",
     "text": [
      "[[1, 1], [-1, 1]]\n",
      "[[2, 2], [2, 2]]\n",
      "[[2, 2], [2, 2], [-3, 1]]\n",
      "[[2, 2], [2, 2], [-3, 1], [-4, 1], [-4, 1]]\n",
      "[[2, 2], [2, 2], [-3, 1], [-4, 1], [-4, 1], [-5, 1], [-5, 1], [-5, 1]]\n",
      "[[6, 3], [6, 3], [6, 2], [6, 2], [6, 2], [6, 2], [6, 2], [6, 2]]\n",
      "[[6, 3], [6, 3], [6, 2], [6, 2], [6, 2], [6, 2], [6, 2], [6, 2], [-7, 1], [-7, 1]]\n",
      "[[6, 3], [6, 3], [6, 2], [6, 2], [6, 2], [6, 2], [6, 2], [6, 2], [-6, 2], [-6, 2], [-6, 1], [-6, 1]]\n",
      "[[6, 3], [6, 3], [6, 2], [6, 2], [6, 2], [6, 2], [6, 2], [6, 2], [-5, 3], [-5, 3], [-5, 2], [-5, 2], [-5, 1], [-5, 1]]\n",
      "[[6, 3], [6, 3], [6, 2], [6, 2], [6, 2], [6, 2], [6, 2], [6, 2], [-4, 4], [-4, 4], [-4, 3], [-4, 3], [-4, 2], [-4, 2], [-4, 1], [-4, 1]]\n"
     ]
    }
   ],
   "source": [
    "#方法一，在每次循环内部跳过重复的maxi不做比较 \n",
    "maxi=[[a[0],1]]#存储前i个元素最长子序列的最后一个元素及其长度 \n",
    "for i in range(1,len(a)): \n",
    "    newmaxi=[] \n",
    "    for j in range(len(maxi)): \n",
    "        if maxi[j] in newmaxi: \n",
    "            continue \n",
    "        newmaxi.append(maxi[j]) \n",
    "        if a[i]>maxi[j][0]: \n",
    "            maxi[j][0]=a[i] \n",
    "            maxi[j][1]+=1 \n",
    "        else: \n",
    "            maxi.append([a[i],1]) \n",
    "    print maxi "
   ]
  },
  {
   "cell_type": "code",
   "execution_count": 5,
   "metadata": {
    "collapsed": false
   },
   "outputs": [
    {
     "name": "stdout",
     "output_type": "stream",
     "text": [
      "[[1, 1], [-1, 1]]\n",
      "[[2, 2]]\n",
      "[[2, 2], [-3, 1]]\n",
      "[[2, 2], [-3, 1], [-4, 1]]\n",
      "[[2, 2], [-3, 1], [-4, 1], [-5, 1]]\n",
      "[[6, 3], [6, 2]]\n",
      "[[6, 3], [6, 2], [-7, 1]]\n",
      "[[6, 3], [6, 2], [-6, 2], [-6, 1]]\n",
      "[[6, 3], [6, 2], [-5, 3], [-5, 2], [-5, 1]]\n",
      "[[6, 3], [6, 2], [-4, 4], [-4, 3], [-4, 2], [-4, 1]]\n"
     ]
    }
   ],
   "source": [
    "#方法二，每次得到maxi后去重 \n",
    "maxi=[[a[0],1]] \n",
    "for i in range(1,len(a)): \n",
    "    \n",
    "    for j in range(len(maxi)): \n",
    "        if a[i]>maxi[j][0]: \n",
    "            maxi[j][0]=a[i] \n",
    "            maxi[j][1]+=1 \n",
    "        else: \n",
    "            maxi.append([a[i],1]) \n",
    "    \n",
    "    newmaxi=[] \n",
    "    for tmp in maxi: \n",
    "        if tmp not in newmaxi: \n",
    "            newmaxi.append(tmp) \n",
    "    \n",
    "    maxi=newmaxi \n",
    "    print maxi "
   ]
  },
  {
   "cell_type": "code",
   "execution_count": 6,
   "metadata": {
    "collapsed": false
   },
   "outputs": [
    {
     "name": "stdout",
     "output_type": "stream",
     "text": [
      "4\n"
     ]
    }
   ],
   "source": [
    "f=[x[1] for x in maxi]\n",
    "print max(f)"
   ]
  },
  {
   "cell_type": "code",
   "execution_count": null,
   "metadata": {
    "collapsed": true
   },
   "outputs": [],
   "source": []
  }
 ],
 "metadata": {
  "kernelspec": {
   "display_name": "Python 2",
   "language": "python",
   "name": "python2"
  },
  "language_info": {
   "codemirror_mode": {
    "name": "ipython",
    "version": 2
   },
   "file_extension": ".py",
   "mimetype": "text/x-python",
   "name": "python",
   "nbconvert_exporter": "python",
   "pygments_lexer": "ipython2",
   "version": "2.7.13"
  }
 },
 "nbformat": 4,
 "nbformat_minor": 2
}
